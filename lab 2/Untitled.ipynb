{
 "cells": [
  {
   "cell_type": "code",
   "execution_count": 1,
   "id": "de87fee6-5a74-4923-8730-0f725aab86f3",
   "metadata": {},
   "outputs": [],
   "source": [
    "import re"
   ]
  },
  {
   "cell_type": "code",
   "execution_count": 3,
   "id": "5a02d99c-9e32-406b-ab8c-f5a5a4a39604",
   "metadata": {},
   "outputs": [
    {
     "name": "stdout",
     "output_type": "stream",
     "text": [
      "<re.Match object; span=(0, 1), match='I'>\n"
     ]
    }
   ],
   "source": [
    "#using re.match\n",
    "#to find the first occurrence of the letter 'I' in the string\n",
    "sentence1 = re.match (r'I', 'I am learning text analytics')\n",
    "print (sentence1)\n"
   ]
  },
  {
   "cell_type": "code",
   "execution_count": 5,
   "id": "08103998-932e-4506-88da-e963927ed25f",
   "metadata": {},
   "outputs": [
    {
     "name": "stdout",
     "output_type": "stream",
     "text": [
      "None\n"
     ]
    }
   ],
   "source": [
    "#using re.match\n",
    "#to find the first occurrence of the letter 'v' in the string\n",
    "sentence2 = re.match (r'v', 'I am learning text analytics')\n",
    "print (sentence2)\n"
   ]
  },
  {
   "cell_type": "code",
   "execution_count": 9,
   "id": "d9712ca3-cbd3-4653-8dc9-19581de64386",
   "metadata": {},
   "outputs": [
    {
     "name": "stdout",
     "output_type": "stream",
     "text": [
      "None\n"
     ]
    }
   ],
   "source": [
    "#using re.match\n",
    "#to find the first occurrence of the letter 'am' in the\n",
    "sentence3 = re.match (r'am', 'I am learning text analytics')\n",
    "print (sentence3)"
   ]
  },
  {
   "cell_type": "code",
   "execution_count": 11,
   "id": "aa8fe03a-8dbc-4354-85a7-53b9230d75f9",
   "metadata": {},
   "outputs": [
    {
     "name": "stdout",
     "output_type": "stream",
     "text": [
      "<re.Match object; span=(2, 4), match='am'>\n"
     ]
    }
   ],
   "source": [
    "sentence4 = re.search(r'am', 'I am learning text analytics')\n",
    "print (sentence4) "
   ]
  },
  {
   "cell_type": "code",
   "execution_count": 15,
   "id": "1f574958-dd85-400c-b929-9b1e74ef0e02",
   "metadata": {},
   "outputs": [
    {
     "name": "stdout",
     "output_type": "stream",
     "text": [
      "<re.Match object; span=(2, 4), match='am'>\n"
     ]
    }
   ],
   "source": [
    "sentence5 = re.search(r'am', 'I am learning text analytics and am enjoying it')\n",
    "print (sentence5)"
   ]
  },
  {
   "cell_type": "code",
   "execution_count": 19,
   "id": "e68aca9d-46b3-40be-8895-13dde33ed6f7",
   "metadata": {},
   "outputs": [
    {
     "name": "stdout",
     "output_type": "stream",
     "text": [
      "['am', 'am']\n"
     ]
    }
   ],
   "source": [
    "sentence6 = re.findall(r'am', 'I am learning text analytics and am enjoying it')\n",
    "print (sentence6) "
   ]
  },
  {
   "cell_type": "code",
   "execution_count": 21,
   "id": "a0afde95-7750-4712-a5f5-45a5e30a2c00",
   "metadata": {},
   "outputs": [
    {
     "name": "stdout",
     "output_type": "stream",
     "text": [
      "['I am learning text analytics ', ' am enjoying it']\n"
     ]
    }
   ],
   "source": [
    "sentence7 = re.split(r'and', 'I am learning text analytics and am enjoying it')\n",
    "print (sentence7) "
   ]
  },
  {
   "cell_type": "code",
   "execution_count": 23,
   "id": "5cd7d34b-6571-4109-ac26-1961cd70bea8",
   "metadata": {},
   "outputs": [
    {
     "name": "stdout",
     "output_type": "stream",
     "text": [
      "['I ', ' learning text analytics and ', ' enjoying it']\n"
     ]
    }
   ],
   "source": [
    "sentence8 = re.split(r'am', 'I am learning text analytics and am enjoying it')\n",
    "print (sentence8)"
   ]
  },
  {
   "cell_type": "code",
   "execution_count": 27,
   "id": "c9a51945-d87b-49e0-bb82-8142d0e8ca33",
   "metadata": {},
   "outputs": [
    {
     "name": "stdout",
     "output_type": "stream",
     "text": [
      "['I ', ' learning text analytics and am enjoying it']\n"
     ]
    }
   ],
   "source": [
    "sentence9 = re.split(r'am', 'I am learning text analytics and am enjoying it', maxsplit=1)\n",
    "print (sentence9) "
   ]
  },
  {
   "cell_type": "code",
   "execution_count": 31,
   "id": "6490cf48-9b7c-4e5a-b7b3-33e1a48e643d",
   "metadata": {},
   "outputs": [
    {
     "name": "stdout",
     "output_type": "stream",
     "text": [
      "['I ', ' learning text analytics and ', ' enjoying it']\n"
     ]
    }
   ],
   "source": [
    "sentence9 = re.split(r'am', 'I am learning text analytics and am enjoying it', maxsplit=2)\n",
    "print (sentence9) "
   ]
  },
  {
   "cell_type": "code",
   "execution_count": 33,
   "id": "e56df602-e8be-462c-94b3-238ebee573df",
   "metadata": {},
   "outputs": [
    {
     "name": "stdout",
     "output_type": "stream",
     "text": [
      "['I ', ' learning text analytics, I ', ' enjoying it and I ', ' going to ace it']\n"
     ]
    }
   ],
   "source": [
    "sentence10 = re.split(r'am', 'I am learning text analytics, I am enjoying it and I am going to ace it', maxsplit=3)\n",
    "print (sentence10) "
   ]
  },
  {
   "cell_type": "code",
   "execution_count": 35,
   "id": "8ca8bf11-e186-4ad2-82c2-1f9aee2b8fb2",
   "metadata": {},
   "outputs": [
    {
     "name": "stdout",
     "output_type": "stream",
     "text": [
      "we like text analytics and we enjoy learning it\n"
     ]
    }
   ],
   "source": [
    "sentence11 = re.sub(r'I', 'we', 'I like text analytics and I enjoy learning it')\n",
    "print (sentence11) "
   ]
  },
  {
   "cell_type": "code",
   "execution_count": 37,
   "id": "461cc536-4056-40cb-a0a6-18663341fc88",
   "metadata": {},
   "outputs": [
    {
     "name": "stdout",
     "output_type": "stream",
     "text": [
      "['I', ' ', 'a', 'm', ' ', 'l', 'e', 'a', 'r', 'n', 'i', 'n', 'g', ' ', 't', 'e', 'x', 't', ' ', 'a', 'n', 'a', 'l', 'y', 't', 'i', 'c', 's']\n"
     ]
    }
   ],
   "source": [
    "sentence1 = re.findall (r'.', 'I am learning text analytics')\n",
    "print (sentence1)\n",
    "# Each letter is selected including spaces"
   ]
  },
  {
   "cell_type": "code",
   "execution_count": 39,
   "id": "4a416beb-e506-406a-b1fd-f40f64e8b187",
   "metadata": {},
   "outputs": [
    {
     "name": "stdout",
     "output_type": "stream",
     "text": [
      "Digits found: ['2', '4', '5', '6', '7', '8', '9', '3', '4', '1', '2', '3', '0']\n"
     ]
    }
   ],
   "source": [
    "text = \"Order number: 24567, Tracking ID: 8934A12, Quantity: 30\"\n",
    "# Write your regular expression here\n",
    "pattern = r'\\d'\n",
    "matches = re.findall(pattern, text)\n",
    "print(\"Digits found:\", matches)"
   ]
  },
  {
   "cell_type": "code",
   "execution_count": null,
   "id": "db33fdc5-52a2-4588-a431-ad5483112b43",
   "metadata": {},
   "outputs": [],
   "source": []
  }
 ],
 "metadata": {
  "kernelspec": {
   "display_name": "Python [conda env:base] *",
   "language": "python",
   "name": "conda-base-py"
  },
  "language_info": {
   "codemirror_mode": {
    "name": "ipython",
    "version": 3
   },
   "file_extension": ".py",
   "mimetype": "text/x-python",
   "name": "python",
   "nbconvert_exporter": "python",
   "pygments_lexer": "ipython3",
   "version": "3.12.7"
  }
 },
 "nbformat": 4,
 "nbformat_minor": 5
}

{
 "cells": [
  {
   "cell_type": "code",
   "execution_count": 3,
   "id": "a46fb2a1-cb09-4038-bef7-ae9cb5650090",
   "metadata": {},
   "outputs": [],
   "source": [
    "import requests"
   ]
  },
  {
   "cell_type": "code",
   "execution_count": 7,
   "id": "29bb7ca8-bfe1-4c91-a471-06d0ae061426",
   "metadata": {},
   "outputs": [],
   "source": [
    "page = requests.get(\"https://dataquestio.github.io/web-scraping-pages/simple.html\")"
   ]
  },
  {
   "cell_type": "code",
   "execution_count": 9,
   "id": "9f944d62-7d8a-4198-b402-06bbe0061f06",
   "metadata": {},
   "outputs": [
    {
     "data": {
      "text/plain": [
       "<Response [200]>"
      ]
     },
     "execution_count": 9,
     "metadata": {},
     "output_type": "execute_result"
    }
   ],
   "source": [
    "page"
   ]
  },
  {
   "cell_type": "code",
   "execution_count": 13,
   "id": "62081c4d-ac5c-4af5-acd5-46bb8d9fe396",
   "metadata": {},
   "outputs": [],
   "source": [
    "from bs4 import BeautifulSoup\n",
    "soup = BeautifulSoup(page.content,'html.parser')"
   ]
  },
  {
   "cell_type": "code",
   "execution_count": 17,
   "id": "c5a4652d-e369-4c8e-97c0-850f1b5c189f",
   "metadata": {},
   "outputs": [
    {
     "data": {
      "text/plain": [
       "['html',\n",
       " '\\n',\n",
       " <html>\n",
       " <head>\n",
       " <title>A simple example page</title>\n",
       " </head>\n",
       " <body>\n",
       " <p>Here is some simple content for this page.</p>\n",
       " </body>\n",
       " </html>]"
      ]
     },
     "execution_count": 17,
     "metadata": {},
     "output_type": "execute_result"
    }
   ],
   "source": [
    "list(soup.children)"
   ]
  },
  {
   "cell_type": "code",
   "execution_count": 19,
   "id": "99d6e8a5-a85f-4431-bab1-abc37caa10d9",
   "metadata": {},
   "outputs": [],
   "source": [
    "html = list(soup.children)[2]"
   ]
  },
  {
   "cell_type": "code",
   "execution_count": 21,
   "id": "73200ee8-0557-4ba1-b1c2-bffb125af628",
   "metadata": {},
   "outputs": [
    {
     "data": {
      "text/plain": [
       "<html>\n",
       "<head>\n",
       "<title>A simple example page</title>\n",
       "</head>\n",
       "<body>\n",
       "<p>Here is some simple content for this page.</p>\n",
       "</body>\n",
       "</html>"
      ]
     },
     "execution_count": 21,
     "metadata": {},
     "output_type": "execute_result"
    }
   ],
   "source": [
    "html"
   ]
  },
  {
   "cell_type": "code",
   "execution_count": 23,
   "id": "2442a53b-2605-4be8-befb-2357df6b800d",
   "metadata": {},
   "outputs": [],
   "source": [
    "content = soup.find('p').get_text()"
   ]
  },
  {
   "cell_type": "code",
   "execution_count": 27,
   "id": "17001293-0850-4bae-b36b-6b327a6ecd74",
   "metadata": {},
   "outputs": [
    {
     "name": "stdout",
     "output_type": "stream",
     "text": [
      "Extracted Content: Here is some simple content for this page.\n"
     ]
    }
   ],
   "source": [
    "print(\"Extracted Content:\",content)"
   ]
  },
  {
   "cell_type": "code",
   "execution_count": 29,
   "id": "11af9975-aaa0-4233-8981-1ea92d754d3c",
   "metadata": {},
   "outputs": [],
   "source": [
    "with open(\"extracted_data1.txt\",\"w\") as file:\n",
    "    file.write(content)"
   ]
  },
  {
   "cell_type": "code",
   "execution_count": 35,
   "id": "25f6b89e-d6c2-46d8-8e6d-3dc53b63bb12",
   "metadata": {},
   "outputs": [],
   "source": [
    "#importing required libraries\n",
    "import requests\n",
    "from bs4 import BeautifulSoup"
   ]
  },
  {
   "cell_type": "code",
   "execution_count": 39,
   "id": "896d61e4-3ffd-439b-b942-56a6a0505dcd",
   "metadata": {},
   "outputs": [],
   "source": [
    "#to identify the target URL to scrape\n",
    "url = \"https://sites.google.com/view/cisb5123/home\""
   ]
  },
  {
   "cell_type": "code",
   "execution_count": 41,
   "id": "53c9baeb-2b14-4418-ad4b-6b147c499ff7",
   "metadata": {},
   "outputs": [],
   "source": [
    "#to request to download the data from the target URL\n",
    "page = requests.get(url)"
   ]
  },
  {
   "cell_type": "code",
   "execution_count": 43,
   "id": "d0d77f57-2c24-4c87-a785-f876683b7371",
   "metadata": {},
   "outputs": [],
   "source": [
    "#Parse and Transform\n",
    "#to parse the downloaded data\n",
    "data = BeautifulSoup (page.content, 'html.parser')"
   ]
  },
  {
   "cell_type": "code",
   "execution_count": 61,
   "id": "1460d496-1c10-4ccd-a778-d05ddf7eaf02",
   "metadata": {},
   "outputs": [
    {
     "data": {
      "text/plain": [
       "'CISB5123'"
      ]
     },
     "execution_count": 61,
     "metadata": {},
     "output_type": "execute_result"
    }
   ],
   "source": [
    "# Extracting title and subtitle\n",
    "title = data.find('h1').strong.get_text()\n",
    "title"
   ]
  },
  {
   "cell_type": "code",
   "execution_count": 63,
   "id": "75a2a898-6964-4900-96cc-5fb092b06e4c",
   "metadata": {},
   "outputs": [
    {
     "data": {
      "text/plain": [
       "'Text Analytics'"
      ]
     },
     "execution_count": 63,
     "metadata": {},
     "output_type": "execute_result"
    }
   ],
   "source": [
    "subtitle = data.find('h2').span.get_text()\n",
    "subtitle"
   ]
  },
  {
   "cell_type": "code",
   "execution_count": 73,
   "id": "8fbd0a28-8a1e-4571-b06a-b2ee472c9dad",
   "metadata": {},
   "outputs": [
    {
     "name": "stderr",
     "output_type": "stream",
     "text": [
      "C:\\Users\\ASUS\\AppData\\Local\\Temp\\ipykernel_42260\\4261471197.py:2: DeprecationWarning: The 'text' argument to find()-type methods is deprecated. Use 'string' instead.\n",
      "  intro_text = data.find(text=\"Introduction\")\n"
     ]
    },
    {
     "data": {
      "text/plain": [
       "'Introduction'"
      ]
     },
     "execution_count": 73,
     "metadata": {},
     "output_type": "execute_result"
    }
   ],
   "source": [
    "# Extracting introduction paragraph\n",
    "intro_text = data.find(text=\"Introduction\")\n",
    "intro_text"
   ]
  },
  {
   "cell_type": "code",
   "execution_count": 77,
   "id": "eff0bad8-7348-418e-b0d2-8156df8049d9",
   "metadata": {},
   "outputs": [
    {
     "data": {
      "text/plain": [
       "'We are going to learn how to perform web scraping.'"
      ]
     },
     "execution_count": 77,
     "metadata": {},
     "output_type": "execute_result"
    }
   ],
   "source": [
    "intro = data.find('p').span.get_text()\n",
    "intro"
   ]
  },
  {
   "cell_type": "code",
   "execution_count": null,
   "id": "c8850770-0cd7-4abe-a3b2-d0fed1c36192",
   "metadata": {},
   "outputs": [],
   "source": []
  },
  {
   "cell_type": "code",
   "execution_count": 87,
   "id": "8d786a35-9185-4177-a17d-0e59188c3fb4",
   "metadata": {},
   "outputs": [
    {
     "name": "stdout",
     "output_type": "stream",
     "text": [
      "Store the extracted data for further usage\n"
     ]
    }
   ],
   "source": [
    "#to find all the ordered list by specifying its class name\n",
    "for step_element in step_elements:\n",
    "    steps= step_element.find('p', class_='CDt4Ke zfr3Q')\n",
    "print(steps.text)"
   ]
  },
  {
   "cell_type": "code",
   "execution_count": null,
   "id": "06b859ee-9029-45a2-b91d-a611ced4c26f",
   "metadata": {},
   "outputs": [],
   "source": []
  },
  {
   "cell_type": "code",
   "execution_count": null,
   "id": "f2f90123-e496-4397-91b4-75633dd042bc",
   "metadata": {},
   "outputs": [],
   "source": []
  },
  {
   "cell_type": "code",
   "execution_count": 65,
   "id": "ba757d39-6a3c-4254-9e46-15a685554502",
   "metadata": {},
   "outputs": [
    {
     "name": "stdout",
     "output_type": "stream",
     "text": [
      "Data has been saved to extracted_data.txt\n"
     ]
    }
   ],
   "source": [
    "#to write the extracted data into a text file\n",
    "with open(\"extracted_data2.txt\", \"w\", encoding=\"utf-8\") as file:\n",
    " file.write(\"Title: {}\\n\".format(title))\n",
    " file.write(\"Subtitle: {}\\n\".format(subtitle))\n",
    " file.write(\"Introduction: {}\\n\".format(intro))\n",
    " file.write(\"Steps:\\n\")\n",
    " for step_element in step_elements:\n",
    "     step = step_element.find('p', class_='CDt4Ke zfr3Q')\n",
    "     file.write(\"- {}\\n\".format(step.text))\n",
    "     \n",
    "print(\"Data has been saved to extracted_data.txt\")"
   ]
  },
  {
   "cell_type": "code",
   "execution_count": null,
   "id": "85303f17-527c-4fdb-88b2-a34ae2becccd",
   "metadata": {},
   "outputs": [],
   "source": []
  }
 ],
 "metadata": {
  "kernelspec": {
   "display_name": "Python [conda env:base] *",
   "language": "python",
   "name": "conda-base-py"
  },
  "language_info": {
   "codemirror_mode": {
    "name": "ipython",
    "version": 3
   },
   "file_extension": ".py",
   "mimetype": "text/x-python",
   "name": "python",
   "nbconvert_exporter": "python",
   "pygments_lexer": "ipython3",
   "version": "3.12.7"
  }
 },
 "nbformat": 4,
 "nbformat_minor": 5
}

{
 "cells": [
  {
   "cell_type": "code",
   "execution_count": 1,
   "id": "e7723555-905b-453f-89f9-3358995f3867",
   "metadata": {},
   "outputs": [],
   "source": [
    "from collections import Counter #count word occurrences\n",
    "import pandas as pd"
   ]
  },
  {
   "cell_type": "code",
   "execution_count": 3,
   "id": "27d7410a-bb50-4a5b-9c85-3522ab39bade",
   "metadata": {},
   "outputs": [],
   "source": [
    "file_path = \"Processed_Reviews.csv\"\n",
    "df = pd.read_csv(file_path)"
   ]
  },
  {
   "cell_type": "code",
   "execution_count": 5,
   "id": "d231fc39-ccb7-45c7-b097-8da006d1b01c",
   "metadata": {},
   "outputs": [],
   "source": [
    "tokenized_reviews = df['tokenized'].dropna().apply(eval)"
   ]
  },
  {
   "cell_type": "code",
   "execution_count": 7,
   "id": "6629286a-6951-4db5-9cd3-0ba3997b0726",
   "metadata": {},
   "outputs": [],
   "source": [
    "all_words = [word for review in tokenized_reviews for word in review]\n",
    "unique_words = list(set(all_words))"
   ]
  },
  {
   "cell_type": "code",
   "execution_count": 9,
   "id": "629c8e4b-0d94-4e9e-9af3-e691ded1b02f",
   "metadata": {},
   "outputs": [],
   "source": [
    "word_freq = Counter(all_words)\n",
    "sorted_word_freq = dict(sorted(word_freq.items(), key=lambda item: item[1], reverse=True))"
   ]
  },
  {
   "cell_type": "code",
   "execution_count": 13,
   "id": "ce4fcd8d-d294-488c-969d-77b182ee30cd",
   "metadata": {},
   "outputs": [],
   "source": [
    "document_vectors = []\n",
    "for review in tokenized_reviews:\n",
    "    document_vector = [1 if word in review else 0 for word in sorted_word_freq.keys()]\n",
    "    document_vectors.append(document_vector)"
   ]
  },
  {
   "cell_type": "code",
   "execution_count": 15,
   "id": "09778356-08e7-4ae9-bb3f-e4c2d74160ac",
   "metadata": {},
   "outputs": [],
   "source": [
    "doc_vectors_df = pd.DataFrame(document_vectors, columns=sorted_word_freq.keys())"
   ]
  },
  {
   "cell_type": "code",
   "execution_count": 17,
   "id": "a654ac0c-797c-4e01-a2b1-1737513d81a9",
   "metadata": {},
   "outputs": [],
   "source": [
    "doc_vectors_df.to_csv(\"document_vectors.csv\", index=False)"
   ]
  },
  {
   "cell_type": "code",
   "execution_count": 19,
   "id": "6512d703-d6fd-49ce-848b-f4acfe7918d6",
   "metadata": {},
   "outputs": [
    {
     "name": "stdout",
     "output_type": "stream",
     "text": [
      "Word Frequency Table:\n",
      "           Word  Frequency\n",
      "0       product          7\n",
      "1       quality          3\n",
      "2         great          2\n",
      "3       amazing          2\n",
      "4          love          2\n",
      "5       awesome          2\n",
      "6          work          2\n",
      "7     perfectly          2\n",
      "8          life          2\n",
      "9        expect          2\n",
      "10       arrive          1\n",
      "11         time          1\n",
      "12    packaging          1\n",
      "13        amaze          1\n",
      "14          buy          1\n",
      "15        phone          1\n",
      "16           hz          1\n",
      "17      display          1\n",
      "18      totally          1\n",
      "19        worth          1\n",
      "20          wow          1\n",
      "21          bit          1\n",
      "22    expensive          1\n",
      "23       laptop          1\n",
      "24         fine          1\n",
      "25        check          1\n",
      "26         full          1\n",
      "27       detail          1\n",
      "28     purchase          1\n",
      "29        happy          1\n",
      "30      battery          1\n",
      "31    excellent          1\n",
      "32       charge          1\n",
      "33        cable          1\n",
      "34        short          1\n",
      "35          can          1\n",
      "36          not          1\n",
      "37      believe          1\n",
      "38         good          1\n",
      "39         fast          1\n",
      "40     delivery          1\n",
      "41       honest          1\n",
      "42         much          1\n",
      "43           oh          1\n",
      "44          god          1\n",
      "45         best          1\n",
      "46         ever          1\n",
      "47          use          1\n",
      "48         shoe          1\n",
      "49  comfortable          1\n",
      "50          fit          1\n",
      "51       nicely          1\n",
      "52          jog          1\n"
     ]
    }
   ],
   "source": [
    "word_freq_df = pd.DataFrame(list(sorted_word_freq.items()), columns=[\"Word\", \"Frequency\"])\n",
    "print(\"Word Frequency Table:\")\n",
    "print(word_freq_df)"
   ]
  },
  {
   "cell_type": "code",
   "execution_count": 23,
   "id": "1d12e05a-6de8-4be3-94c7-42560d678aac",
   "metadata": {},
   "outputs": [],
   "source": [
    "import pandas as pd\n",
    "import math # use for log function\n",
    "from collections import Counter"
   ]
  },
  {
   "cell_type": "code",
   "execution_count": 25,
   "id": "7ca58c68-7ea3-47ee-a413-22c93a72af68",
   "metadata": {},
   "outputs": [],
   "source": [
    "file_path = \"Processed_Reviews.csv\"\n",
    "df = pd.read_csv(file_path)"
   ]
  },
  {
   "cell_type": "code",
   "execution_count": 30,
   "id": "0241581b-de95-413b-9b4f-88403e055562",
   "metadata": {},
   "outputs": [],
   "source": [
    "tokenized_reviews = df['tokenized'].dropna().apply(eval)"
   ]
  },
  {
   "cell_type": "code",
   "execution_count": 32,
   "id": "d8543fd3-49ad-4b82-b4aa-4b9c78c89970",
   "metadata": {},
   "outputs": [],
   "source": [
    "def compute_tf(document):\n",
    "    word_count = Counter(document)\n",
    "    tf = {word: count / len(document) for word, count in word_count.items()}\n",
    "    return tf"
   ]
  },
  {
   "cell_type": "code",
   "execution_count": 38,
   "id": "89e41ea1-9d6c-4770-9ab4-4d136fb01c35",
   "metadata": {},
   "outputs": [],
   "source": [
    "def compute_idf(documents):\n",
    "    N = len(documents) # Total number of documents\n",
    "    idf = {}\n",
    "    all_words = set(word for doc in documents for word in doc) # Unique words\n",
    "    for word in all_words:\n",
    "        count = sum(1 for doc in documents if word in doc)\n",
    "        idf[word] = math.log(N / count)\n",
    "    return idf"
   ]
  },
  {
   "cell_type": "code",
   "execution_count": 40,
   "id": "cafb0692-738e-4998-97c1-6cb1eb7312d5",
   "metadata": {},
   "outputs": [],
   "source": [
    "def compute_tfidf(document, idf):\n",
    "    tfidf = {}\n",
    "    tf = compute_tf(document) # Get TF values for the document\n",
    "    for word, tf_value in tf.items():\n",
    "        tfidf[word] = tf_value * idf[word] # Multiply TF and IDF\n",
    "    return tfidf"
   ]
  },
  {
   "cell_type": "code",
   "execution_count": 42,
   "id": "f152e667-e9a1-4a2c-9e8b-64e51415a52e",
   "metadata": {},
   "outputs": [],
   "source": [
    "documents = tokenized_reviews.tolist()"
   ]
  },
  {
   "cell_type": "code",
   "execution_count": 44,
   "id": "5ed8a43c-d2ae-414e-a9b4-e56135b0c521",
   "metadata": {},
   "outputs": [],
   "source": [
    "tf_data = [compute_tf(doc) for doc in documents]\n",
    "tf_df = pd.DataFrame(tf_data).fillna(0)\n",
    "tf_df.to_csv(\"tf_scores.csv\", index=False)"
   ]
  },
  {
   "cell_type": "code",
   "execution_count": 46,
   "id": "a4f8e18a-e8c8-4680-88c1-9a103a7142d8",
   "metadata": {},
   "outputs": [],
   "source": [
    "idf = compute_idf(documents)\n",
    "idf_df = pd.DataFrame([idf]).fillna(0)\n",
    "idf_df.to_csv(\"idf_scores.csv\", index=False)"
   ]
  },
  {
   "cell_type": "code",
   "execution_count": 48,
   "id": "e7b9bedd-7ad3-4888-9647-7e44a0ce5318",
   "metadata": {},
   "outputs": [],
   "source": [
    "tfidf_data = [compute_tfidf(doc, idf) for doc in documents]\n",
    "tfidf_df = pd.DataFrame(tfidf_data).fillna(0)\n",
    "tfidf_df.to_csv(\"tfidf_scores.csv\", index=False)"
   ]
  }
 ],
 "metadata": {
  "kernelspec": {
   "display_name": "Python [conda env:base] *",
   "language": "python",
   "name": "conda-base-py"
  },
  "language_info": {
   "codemirror_mode": {
    "name": "ipython",
    "version": 3
   },
   "file_extension": ".py",
   "mimetype": "text/x-python",
   "name": "python",
   "nbconvert_exporter": "python",
   "pygments_lexer": "ipython3",
   "version": "3.12.7"
  }
 },
 "nbformat": 4,
 "nbformat_minor": 5
}

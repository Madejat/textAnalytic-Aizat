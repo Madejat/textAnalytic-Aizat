{
 "cells": [
  {
   "cell_type": "markdown",
   "id": "f2b336c3",
   "metadata": {},
   "source": [
    "# Lab Assignment 3 - Topic Modeling\n",
    "**Name:** Ahmad Aizat,Muhammad Aidil  \n",
    "**ID:** IS01082871, IS01082943\n"
   ]
  },
  {
   "cell_type": "code",
   "execution_count": 16,
   "id": "69da17f8",
   "metadata": {},
   "outputs": [],
   "source": [
    "import pandas as pd\n",
    "import nltk\n",
    "import re\n",
    "import gensim\n",
    "import gensim.corpora as corpora\n",
    "from nltk.tokenize import word_tokenize\n",
    "from gensim.models import CoherenceModel, LdaModel\n",
    "from nltk.stem.porter import PorterStemmer\n",
    "from gensim.utils import simple_preprocess\n",
    "\n",
    "# Hardcoded stopwords\n",
    "custom_stopwords = set([\n",
    "    'i', 'me', 'my', 'myself', 'we', 'our', 'ours', 'ourselves', 'you',\n",
    "    'your', 'yours', 'yourself', 'yourselves', 'he', 'him', 'his',\n",
    "    'himself', 'she', 'her', 'hers', 'herself', 'it', 'its', 'itself',\n",
    "    'they', 'them', 'their', 'theirs', 'themselves', 'what', 'which',\n",
    "    'who', 'whom', 'this', 'that', 'these', 'those', 'am', 'is', 'are',\n",
    "    'was', 'were', 'be', 'been', 'being', 'have', 'has', 'had', 'having',\n",
    "    'do', 'does', 'did', 'doing', 'a', 'an', 'the', 'and', 'but', 'if',\n",
    "    'or', 'because', 'as', 'until', 'while', 'of', 'at', 'by', 'for',\n",
    "    'with', 'about', 'against', 'between', 'into', 'through', 'during',\n",
    "    'before', 'after', 'above', 'below', 'to', 'from', 'up', 'down',\n",
    "    'in', 'out', 'on', 'off', 'over', 'under', 'again', 'further',\n",
    "    'then', 'once', 'here', 'there', 'when', 'where', 'why', 'how',\n",
    "    'all', 'any', 'both', 'each', 'few', 'more', 'most', 'other',\n",
    "    'some', 'such', 'no', 'nor', 'not', 'only', 'own', 'same', 'so',\n",
    "    'than', 'too', 'very', 's', 't', 'can', 'will', 'just', 'don',\n",
    "    'should', 'now'\n",
    "])\n"
   ]
  },
  {
   "cell_type": "code",
   "execution_count": 2,
   "id": "879839a2",
   "metadata": {},
   "outputs": [
    {
     "data": {
      "text/html": [
       "<div>\n",
       "<style scoped>\n",
       "    .dataframe tbody tr th:only-of-type {\n",
       "        vertical-align: middle;\n",
       "    }\n",
       "\n",
       "    .dataframe tbody tr th {\n",
       "        vertical-align: top;\n",
       "    }\n",
       "\n",
       "    .dataframe thead th {\n",
       "        text-align: right;\n",
       "    }\n",
       "</style>\n",
       "<table border=\"1\" class=\"dataframe\">\n",
       "  <thead>\n",
       "    <tr style=\"text-align: right;\">\n",
       "      <th></th>\n",
       "      <th>Unnamed: 0</th>\n",
       "      <th>text</th>\n",
       "      <th>target</th>\n",
       "      <th>title</th>\n",
       "      <th>date</th>\n",
       "    </tr>\n",
       "  </thead>\n",
       "  <tbody>\n",
       "    <tr>\n",
       "      <th>0</th>\n",
       "      <td>0</td>\n",
       "      <td>I was wondering if anyone out there could enli...</td>\n",
       "      <td>7</td>\n",
       "      <td>rec.autos</td>\n",
       "      <td>2022-08-02 13:48:37.251043</td>\n",
       "    </tr>\n",
       "    <tr>\n",
       "      <th>1</th>\n",
       "      <td>17</td>\n",
       "      <td>I recently posted an article asking what kind ...</td>\n",
       "      <td>7</td>\n",
       "      <td>rec.autos</td>\n",
       "      <td>2022-08-02 13:48:37.251043</td>\n",
       "    </tr>\n",
       "    <tr>\n",
       "      <th>2</th>\n",
       "      <td>29</td>\n",
       "      <td>\\nIt depends on your priorities.  A lot of peo...</td>\n",
       "      <td>7</td>\n",
       "      <td>rec.autos</td>\n",
       "      <td>2022-08-02 13:48:37.251043</td>\n",
       "    </tr>\n",
       "    <tr>\n",
       "      <th>3</th>\n",
       "      <td>56</td>\n",
       "      <td>an excellent automatic can be found in the sub...</td>\n",
       "      <td>7</td>\n",
       "      <td>rec.autos</td>\n",
       "      <td>2022-08-02 13:48:37.251043</td>\n",
       "    </tr>\n",
       "    <tr>\n",
       "      <th>4</th>\n",
       "      <td>64</td>\n",
       "      <td>: Ford and his automobile.  I need information...</td>\n",
       "      <td>7</td>\n",
       "      <td>rec.autos</td>\n",
       "      <td>2022-08-02 13:48:37.251043</td>\n",
       "    </tr>\n",
       "  </tbody>\n",
       "</table>\n",
       "</div>"
      ],
      "text/plain": [
       "   Unnamed: 0                                               text  target  \\\n",
       "0           0  I was wondering if anyone out there could enli...       7   \n",
       "1          17  I recently posted an article asking what kind ...       7   \n",
       "2          29  \\nIt depends on your priorities.  A lot of peo...       7   \n",
       "3          56  an excellent automatic can be found in the sub...       7   \n",
       "4          64  : Ford and his automobile.  I need information...       7   \n",
       "\n",
       "       title                        date  \n",
       "0  rec.autos  2022-08-02 13:48:37.251043  \n",
       "1  rec.autos  2022-08-02 13:48:37.251043  \n",
       "2  rec.autos  2022-08-02 13:48:37.251043  \n",
       "3  rec.autos  2022-08-02 13:48:37.251043  \n",
       "4  rec.autos  2022-08-02 13:48:37.251043  "
      ]
     },
     "execution_count": 2,
     "metadata": {},
     "output_type": "execute_result"
    }
   ],
   "source": [
    "df = pd.read_csv(\"news_dataset.csv\")\n",
    "df = df.dropna(subset=['text'])\n",
    "df.head()\n"
   ]
  },
  {
   "cell_type": "code",
   "execution_count": 15,
   "id": "721f1d42",
   "metadata": {},
   "outputs": [],
   "source": [
    "stemmer = PorterStemmer()\n",
    "\n",
    "def preprocess_text(text):\n",
    "    tokens = simple_preprocess(text, deacc=True)\n",
    "    tokens = [word for word in tokens if word not in custom_stopwords]\n",
    "    tokens = [stemmer.stem(word) for word in tokens]\n",
    "    return tokens\n",
    "\n",
    "df['tokens'] = df['text'].apply(preprocess_text)\n"
   ]
  },
  {
   "cell_type": "code",
   "execution_count": 25,
   "id": "bcfd5589",
   "metadata": {},
   "outputs": [],
   "source": [
    "id2word = corpora.Dictionary(df['tokens'])\n",
    "corpus = [id2word.doc2bow(text) for text in df['tokens']]\n"
   ]
  },
  {
   "cell_type": "code",
   "execution_count": 13,
   "id": "8fc05dcc",
   "metadata": {},
   "outputs": [],
   "source": [
    "lda_model = LdaModel(corpus=corpus,\n",
    "                     id2word=id2word,\n",
    "                     num_topics=4,\n",
    "                     random_state=42,\n",
    "                     update_every=1,\n",
    "                     chunksize=50,\n",
    "                     passes=5,\n",
    "                     alpha='auto',\n",
    "                     per_word_topics=True)\n"
   ]
  },
  {
   "cell_type": "code",
   "execution_count": 12,
   "id": "2aadb57c",
   "metadata": {},
   "outputs": [
    {
     "name": "stdout",
     "output_type": "stream",
     "text": [
      "Topic 1: 0.025*\"bh\" + 0.014*\"mov\" + 0.012*\"nist\" + 0.011*\"di\" + 0.010*\"al\" + 0.010*\"ncsl\" + 0.009*\"cx\" + 0.009*\"bl\" + 0.005*\"expn\" + 0.005*\"ax\"\n",
      "Topic 2: 0.010*\"would\" + 0.010*\"one\" + 0.009*\"peopl\" + 0.007*\"govern\" + 0.006*\"right\" + 0.006*\"say\" + 0.006*\"know\" + 0.006*\"like\" + 0.006*\"think\" + 0.005*\"go\"\n",
      "Topic 3: 0.065*\"chip\" + 0.051*\"db\" + 0.021*\"bit\" + 0.020*\"devic\" + 0.013*\"serial\" + 0.011*\"block\" + 0.009*\"si\" + 0.009*\"disk\" + 0.008*\"turkey\" + 0.007*\"byte\"\n",
      "Topic 4: 0.024*\"key\" + 0.015*\"use\" + 0.015*\"encrypt\" + 0.009*\"system\" + 0.008*\"secur\" + 0.007*\"clipper\" + 0.007*\"inform\" + 0.006*\"public\" + 0.006*\"privaci\" + 0.006*\"anonym\"\n",
      "\n",
      "Coherence Score: 0.49238843810090444\n"
     ]
    }
   ],
   "source": [
    "coherence_model_lda = CoherenceModel(model=lda_model, texts=df['tokens'], dictionary=id2word, coherence='c_v')\n",
    "coherence_score = coherence_model_lda.get_coherence()\n",
    "\n",
    "topics = lda_model.print_topics(num_words=10)\n",
    "for i, topic in enumerate(topics):\n",
    "    print(f\"Topic {i+1}: {topic[1]}\")\n",
    "    \n",
    "print(f\"\\nCoherence Score: {coherence_score}\")\n"
   ]
  },
  {
   "cell_type": "markdown",
   "id": "7debad7e",
   "metadata": {},
   "source": [
    "### Interpretation of Coherence Score\n",
    "The coherence score provides a quantitative measure of topic interpretability. A higher coherence score (closer to 1.0) means that the words within a topic are more semantically related, indicating better topic quality. In this model, a score around 0.5 or higher typically suggests reasonably coherent topics in real-world text data.\n"
   ]
  },
  {
   "cell_type": "code",
   "execution_count": null,
   "id": "29b6208c-b08e-4e32-99d0-767b0351269e",
   "metadata": {},
   "outputs": [],
   "source": []
  }
 ],
 "metadata": {
  "kernelspec": {
   "display_name": "Python [conda env:base] *",
   "language": "python",
   "name": "conda-base-py"
  },
  "language_info": {
   "codemirror_mode": {
    "name": "ipython",
    "version": 3
   },
   "file_extension": ".py",
   "mimetype": "text/x-python",
   "name": "python",
   "nbconvert_exporter": "python",
   "pygments_lexer": "ipython3",
   "version": "3.12.7"
  }
 },
 "nbformat": 4,
 "nbformat_minor": 5
}
